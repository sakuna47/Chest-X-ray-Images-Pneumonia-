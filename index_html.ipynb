{
  "nbformat": 4,
  "nbformat_minor": 0,
  "metadata": {
    "colab": {
      "provenance": [],
      "authorship_tag": "ABX9TyNC8N+tmlM1IfM4QR+x25Yf",
      "include_colab_link": true
    },
    "kernelspec": {
      "name": "python3",
      "display_name": "Python 3"
    },
    "language_info": {
      "name": "python"
    }
  },
  "cells": [
    {
      "cell_type": "markdown",
      "metadata": {
        "id": "view-in-github",
        "colab_type": "text"
      },
      "source": [
        "<a href=\"https://colab.research.google.com/github/sakuna47/Chest-X-ray-Images-Pneumonia-/blob/Frontend/index_html.ipynb\" target=\"_parent\"><img src=\"https://colab.research.google.com/assets/colab-badge.svg\" alt=\"Open In Colab\"/></a>"
      ]
    },
    {
      "cell_type": "code",
      "execution_count": null,
      "metadata": {
        "id": "T19Ow1Y8hcAB"
      },
      "outputs": [],
      "source": [
        "<!DOCTYPE html>\n",
        "<html>\n",
        "<head>\n",
        "    <title>Pneumonia Diagnosis</title>\n",
        "</head>\n",
        "<body>\n",
        "    <h1>Upload Chest X-ray Image</h1>\n",
        "    <form method=\"POST\" action=\"/predict\" enctype=\"multipart/form-data\">\n",
        "        <input type=\"file\" name=\"file\" accept=\"image/*\" required>\n",
        "        <button type=\"submit\">Diagnose</button>\n",
        "    </form>\n",
        "\n",
        "    {% if prediction %}\n",
        "        <h2>Diagnosis: {{ prediction }}</h2>\n",
        "    {% endif %}\n",
        "</body>\n",
        "</html>"
      ]
    }
  ]
}